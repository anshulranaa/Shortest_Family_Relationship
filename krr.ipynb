{
 "cells": [
  {
   "cell_type": "markdown",
   "metadata": {},
   "source": [
    "# Create a family knowledge base of the primitive relations: Parent(Parent, Child), Male(Person), Female(Person), and Married(Person, Person). Define a set of 10 relations (for example: Brother, Sister, Chacha, Chachi, Cousin...). Write a program to interactively answer the following kind of queries –“How is X related to Y”. How will you generate the shortest possible chain of relations? For example “Ramesh is Sunita’s maami’s cousin”.\n"
   ]
  },
  {
   "cell_type": "code",
   "execution_count": 1,
   "metadata": {},
   "outputs": [
    {
     "name": "stdout",
     "output_type": "stream",
     "text": [
      "10\n"
     ]
    }
   ],
   "source": [
    "relation = ['Brother','Dad','Mom','Sister','Cousin','Married','Uncle','Aunt','Grandfather','GrandMother']\n",
    "print(len(relation))"
   ]
  },
  {
   "cell_type": "code",
   "execution_count": 32,
   "metadata": {},
   "outputs": [
    {
     "name": "stdout",
     "output_type": "stream",
     "text": [
      "Mom: [['Alexis', 'Esha']]\n",
      "Dad: [['Jayden', 'Esha'], ['Ram', 'Leo'], ['Ram', 'Jayden'], ['Leo', 'Jasmine']]\n",
      "Brother: [['Michael', 'Esha']]\n",
      "Sister: [['Esha', 'Michael']]\n",
      "Married: [['Alexis', 'Jayden']]\n",
      "Uncle: [['Leo', 'Michael'], ['Leo', 'Esha']]\n",
      "Cousin: [['Esha', 'Jasmine']]\n"
     ]
    }
   ],
   "source": [
    "def parse_family_relations_v3(file_path):\n",
    "    relation_based_dict = {}\n",
    "    \n",
    "    with open(file_path, 'r') as file:\n",
    "        for line in file:\n",
    "            if line.strip():  # Ensure the line is not empty\n",
    "                # Extracting the relation type and the individuals involved\n",
    "                relation, people = line.strip().split('(')\n",
    "                person1, person2 = people.strip(')').split(',')\n",
    "                \n",
    "                # Update the dictionary for the relation\n",
    "                if relation not in relation_based_dict:\n",
    "                    relation_based_dict[relation] = []\n",
    "                relation_based_dict[relation].append([person1, person2])\n",
    "                \n",
    "                # Handle bidirectional relations such as 'Married'\n",
    "                if relation == 'Married':\n",
    "                    # For 'Married', we've already added both persons in the right order\n",
    "                    # If other bidirectional relations need to be handled, similar logic could be applied here\n",
    "                    pass\n",
    "    \n",
    "    return relation_based_dict\n",
    "\n",
    "# Assuming the file path is 'family_graph.txt', which needs to be updated with the actual file path\n",
    "file_path = 'family_graph.txt'  # Update this path\n",
    "relations_dict = parse_family_relations_v3(file_path)\n",
    "for relation, pairs in relations_dict.items():\n",
    "    print(f\"{relation}: {pairs}\")\n"
   ]
  },
  {
   "cell_type": "code",
   "execution_count": 34,
   "metadata": {},
   "outputs": [
    {
     "name": "stdout",
     "output_type": "stream",
     "text": [
      "Ancestors of Jasmine: ['Leo', 'Ram']\n"
     ]
    }
   ],
   "source": [
    "def find_ancestors_v2(person, relation_based_dict):\n",
    "    ancestors = []\n",
    "    \n",
    "    def add_parents_of_sibling(sibling):\n",
    "        \"\"\"Add parents based on a sibling's known parents.\"\"\"\n",
    "        for relation in ['Mom', 'Dad']:\n",
    "            if relation in relation_based_dict:\n",
    "                for pair in relation_based_dict[relation]:\n",
    "                    # If the sibling is found as a child in a parent relation\n",
    "                    if sibling == pair[1]:\n",
    "                        # Add this parent for the original person as well\n",
    "                        if pair[0] not in ancestors:\n",
    "                            ancestors.append(pair[0])\n",
    "                            recurse_find(pair[0])\n",
    "\n",
    "    def recurse_find(child):\n",
    "        # Initially look for 'Mom' and 'Dad' relations directly\n",
    "        direct_parent_found = False\n",
    "        for relation in ['Mom', 'Dad']:\n",
    "            if relation in relation_based_dict:\n",
    "                for pair in relation_based_dict[relation]:\n",
    "                    if child == pair[1] and pair[0] not in ancestors:\n",
    "                        direct_parent_found = True\n",
    "                        ancestors.append(pair[0])\n",
    "                        recurse_find(pair[0])\n",
    "\n",
    "        # If no direct parent is found, look for siblings as a way to find parents\n",
    "        if not direct_parent_found:\n",
    "            for pair in relation_based_dict.get('Brother', []) + relation_based_dict.get('Sister', []):\n",
    "                if child == pair[0]:  # If the person is listed as a sibling\n",
    "                    add_parents_of_sibling(pair[1])\n",
    "                elif child == pair[1]:  # Or the sibling relation is listed the other way\n",
    "                    add_parents_of_sibling(pair[0])\n",
    "\n",
    "    recurse_find(person)\n",
    "    return ancestors\n",
    "\n",
    "\n",
    "# Test the updated function with an example\n",
    "ancestors_of_michael = find_ancestors_v2('Jasmine', relations_dict)\n",
    "print(f\"Ancestors of Jasmine: {ancestors_of_michael}\")\n"
   ]
  },
  {
   "cell_type": "code",
   "execution_count": 35,
   "metadata": {},
   "outputs": [
    {
     "name": "stdout",
     "output_type": "stream",
     "text": [
      "The lowest common ancestor (LCA) of Esha and Michael is: Ram\n"
     ]
    }
   ],
   "source": [
    "def find_lca_v2(a, b, relation_based_dict):\n",
    "    # Use the updated version of find_ancestors function\n",
    "    ancestors_a = find_ancestors_v2(a, relation_based_dict)\n",
    "    ancestors_b = find_ancestors_v2(b, relation_based_dict)\n",
    "    \n",
    "    # Find the first common ancestor in the list of ancestors for 'a' that also appears in 'b's ancestors\n",
    "    # This relies on the ancestors being returned in order from closest to furthest\n",
    "    lca = next((ancestor for ancestor in ancestors_a if ancestor in ancestors_b), None)\n",
    "    return lca\n",
    "\n",
    "# Assuming `relation_based_dict` is already defined and populated as shown previously\n",
    "# Example use of the modified find_lca function\n",
    "lca = find_lca_v2('Esha', 'Jasmine', relations_dict)\n",
    "print(f\"The lowest common ancestor (LCA) of Esha and Michael is: {lca}\")\n"
   ]
  },
  {
   "cell_type": "code",
   "execution_count": 38,
   "metadata": {},
   "outputs": [
    {
     "name": "stdout",
     "output_type": "stream",
     "text": [
      "The relationship between Esha and Jasmine is: Cousin\n"
     ]
    }
   ],
   "source": [
    "def calculate_relationship(person_a, person_b, relation_based_dict):\n",
    "    # First, Check if their relationship already exists in the dictionary\n",
    "    for relation, pairs in relation_based_dict.items():\n",
    "        if [person_a, person_b] in pairs or [person_b, person_a] in pairs:\n",
    "            return relation\n",
    "\n",
    "    # Second, find the LCA for both individuals\n",
    "    lca = find_lca_v2(person_a, person_b, relation_based_dict)\n",
    "    if not lca:\n",
    "        return \"No common ancestors found, so no direct familial relationship.\"\n",
    "    \n",
    "    # Then, find the distance from each person to the LCA\n",
    "    def find_distance_to_lca(person, lca, relation_based_dict):\n",
    "        ancestors = find_ancestors_v2(person, relation_based_dict)\n",
    "        distance = 0\n",
    "        for ancestor in ancestors:\n",
    "            distance += 1\n",
    "            if ancestor == lca:\n",
    "                return distance\n",
    "        return -1  # In case the LCA isn't in the ancestors list, which shouldn't happen\n",
    "\n",
    "    distance_a_to_lca = find_distance_to_lca(person_a, lca, relation_based_dict)\n",
    "    distance_b_to_lca = find_distance_to_lca(person_b, lca, relation_based_dict)\n",
    "    \n",
    "    # Determine the relationship based on the distances\n",
    "    if distance_a_to_lca == 1 and distance_b_to_lca == 1:\n",
    "        return \"Siblings\"\n",
    "    elif distance_a_to_lca == 1 or distance_b_to_lca == 1:\n",
    "        return \"Parent-Child\" if distance_a_to_lca > distance_b_to_lca else \"Child-Parent\"\n",
    "    elif distance_a_to_lca == 2 and distance_b_to_lca == 2:\n",
    "        return \"First Cousins\"\n",
    "    elif distance_a_to_lca > 2 or distance_b_to_lca > 2:\n",
    "        return \"Removed Cousins or further ancestor-descendant relationship\"\n",
    "    else:\n",
    "        return \"Uncategorized relationship\"\n",
    "relationship = calculate_relationship('Esha', 'Jasmine', relations_dict)\n",
    "print(f\"The relationship between Esha and Jasmine is: {relationship}\")"
   ]
  }
 ],
 "metadata": {
  "kernelspec": {
   "display_name": "Python 3",
   "language": "python",
   "name": "python3"
  },
  "language_info": {
   "codemirror_mode": {
    "name": "ipython",
    "version": 3
   },
   "file_extension": ".py",
   "mimetype": "text/x-python",
   "name": "python",
   "nbconvert_exporter": "python",
   "pygments_lexer": "ipython3",
   "version": "3.11.7"
  }
 },
 "nbformat": 4,
 "nbformat_minor": 2
}
