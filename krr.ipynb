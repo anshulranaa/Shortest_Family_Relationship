{
 "cells": [
  {
   "cell_type": "markdown",
   "metadata": {},
   "source": [
    "# Create a family knowledge base of the primitive relations: Parent(Parent, Child), Male(Person), Female(Person), and Married(Person, Person). Define a set of 10 relations (for example: Brother, Sister, Chacha, Chachi, Cousin...). Write a program to interactively answer the following kind of queries –“How is X related to Y”. How will you generate the shortest possible chain of relations? For example “Ramesh is Sunita’s maami’s cousin”.\n"
   ]
  },
  {
   "cell_type": "code",
   "execution_count": 35,
   "metadata": {},
   "outputs": [
    {
     "name": "stdout",
     "output_type": "stream",
     "text": [
      "9\n"
     ]
    }
   ],
   "source": [
    "primitive_relations =['Male','Female','Married','Parent']\n",
    "relation = ['Sibling','Dad','Mom','Cousin','Spouse','Uncle','Aunt','Grandparent','Grandchild']\n",
    "print(len(relation))"
   ]
  },
  {
   "cell_type": "code",
   "execution_count": 3,
   "metadata": {},
   "outputs": [
    {
     "name": "stdout",
     "output_type": "stream",
     "text": [
      "Mom: [['Alexis', 'Esha'], ['Rhea', 'Jasmine']]\n",
      "Dad: [['Jayden', 'Esha'], ['Ram', 'Leo'], ['Ram', 'Jayden'], ['Leo', 'Jasmine']]\n",
      "Brother: [['Michael', 'Esha']]\n",
      "Sister: [['Esha', 'Michael']]\n",
      "Married: [['Alexis', 'Jayden']]\n",
      "Uncle: [['Leo', 'Michael'], ['Leo', 'Esha']]\n",
      "Cousin: [['Esha', 'Jasmine']]\n"
     ]
    }
   ],
   "source": [
    "def parse_family_relations_v3(file_path):\n",
    "    relation_based_dict = {}\n",
    "    \n",
    "    with open(file_path, 'r') as file:\n",
    "        for line in file:\n",
    "            if line.strip():  # Ensure the line is not empty\n",
    "                # Extracting the relation type and the individuals involved\n",
    "                relation, people = line.strip().split('(')\n",
    "                person1, person2 = people.strip(')').split(',')\n",
    "                \n",
    "                # Update the dictionary for the relation\n",
    "                if relation not in relation_based_dict:\n",
    "                    relation_based_dict[relation] = []\n",
    "                relation_based_dict[relation].append([person1, person2])\n",
    "                \n",
    "                # Handle bidirectional relations such as 'Married'\n",
    "                if relation == 'Married':\n",
    "                    # For 'Married', we've already added both persons in the right order\n",
    "                    # If other bidirectional relations need to be handled, similar logic could be applied here\n",
    "                    pass\n",
    "    \n",
    "    return relation_based_dict\n",
    "\n",
    "# Assuming the file path is 'family_graph.txt', which needs to be updated with the actual file path\n",
    "file_path = 'family_graph.txt'  # Update this path\n",
    "relations_dict = parse_family_relations_v3(file_path)\n",
    "for relation, pairs in relations_dict.items():\n",
    "    print(f\"{relation}: {pairs}\")\n"
   ]
  },
  {
   "cell_type": "code",
   "execution_count": 1,
   "metadata": {},
   "outputs": [
    {
     "ename": "NameError",
     "evalue": "name 'relations_dict' is not defined",
     "output_type": "error",
     "traceback": [
      "\u001b[0;31m---------------------------------------------------------------------------\u001b[0m",
      "\u001b[0;31mNameError\u001b[0m                                 Traceback (most recent call last)",
      "Cell \u001b[0;32mIn[1], line 15\u001b[0m\n\u001b[1;32m     11\u001b[0m \u001b[38;5;66;03m# Adding family members based on the relationships\u001b[39;00m\n\u001b[1;32m     12\u001b[0m \u001b[38;5;66;03m# Set the node only once, if not already set\u001b[39;00m\n\u001b[1;32m     13\u001b[0m added_nodes \u001b[38;5;241m=\u001b[39m \u001b[38;5;28mset\u001b[39m()\n\u001b[0;32m---> 15\u001b[0m \u001b[38;5;28;01mfor\u001b[39;00m relation, person_pairs \u001b[38;5;129;01min\u001b[39;00m \u001b[43mrelations_dict\u001b[49m\u001b[38;5;241m.\u001b[39mitems():\n\u001b[1;32m     16\u001b[0m     \u001b[38;5;28;01mfor\u001b[39;00m pair \u001b[38;5;129;01min\u001b[39;00m person_pairs:\n\u001b[1;32m     17\u001b[0m         parent, child \u001b[38;5;241m=\u001b[39m pair\n",
      "\u001b[0;31mNameError\u001b[0m: name 'relations_dict' is not defined"
     ]
    }
   ],
   "source": [
    "from graphviz import Digraph\n",
    "from IPython.display import display\n",
    "\n",
    "# Create a Digraph object\n",
    "dot = Digraph(comment='Family Tree')\n",
    "dot.attr(rankdir='TB')  # Top to Bottom graph\n",
    "\n",
    "# Nodes and their styles\n",
    "dot.attr('node', shape='ellipse')\n",
    "\n",
    "# Adding family members based on the relationships\n",
    "# Set the node only once, if not already set\n",
    "added_nodes = set()\n",
    "\n",
    "for relation, person_pairs in relations_dict.items():\n",
    "    for pair in person_pairs:\n",
    "        parent, child = pair\n",
    "        if parent not in added_nodes:\n",
    "            dot.node(parent, parent)\n",
    "            added_nodes.add(parent)\n",
    "        if child not in added_nodes:\n",
    "            dot.node(child, child)\n",
    "            added_nodes.add(child)\n",
    "\n",
    "        if relation == 'parent':\n",
    "            # Add edge from parent to child\n",
    "            dot.edge(parent, child)\n",
    "        elif relation == 'Married':\n",
    "            # Add edge for marriage (bidirectional with no arrows)\n",
    "            dot.edge(parent, child, dir='none', constraint='false')\n",
    "        elif relation == 'Brother':\n",
    "            dot.edge('Alexis', 'Michael')  \n",
    "            dot.edge('Jayden', 'Michael')  \n",
    "display(dot)"
   ]
  },
  {
   "cell_type": "code",
   "execution_count": 34,
   "metadata": {},
   "outputs": [
    {
     "name": "stdout",
     "output_type": "stream",
     "text": [
      "Ancestors of Esha: ['Esha', 'Alexis', 'Jayden', 'Ram']\n"
     ]
    }
   ],
   "source": [
    "def find_ancestors_v2(person, relation_based_dict):\n",
    "    ancestors = []\n",
    "    ancestors.append(person)\n",
    "    \n",
    "    def add_parents_of_sibling(sibling):\n",
    "        \"\"\"Add parents based on a sibling's known parents.\"\"\"\n",
    "        for relation in ['Mom', 'Dad']:\n",
    "            if relation in relation_based_dict:\n",
    "                for pair in relation_based_dict[relation]:\n",
    "                    # If the sibling is found as a child in a parent relation\n",
    "                    if sibling == pair[1]:\n",
    "                        # Add this parent for the original person as well\n",
    "                        if pair[0] not in ancestors:\n",
    "                            ancestors.append(pair[0])\n",
    "                            recurse_find(pair[0])\n",
    "\n",
    "    def recurse_find(child):\n",
    "        # Initially look for 'Mom' and 'Dad' relations directly\n",
    "        direct_parent_found = False\n",
    "        for relation in ['Mom', 'Dad']:\n",
    "            if relation in relation_based_dict:\n",
    "                for pair in relation_based_dict[relation]:\n",
    "                    if child == pair[1] and pair[0] not in ancestors:\n",
    "                        direct_parent_found = True\n",
    "                        ancestors.append(pair[0])\n",
    "                        recurse_find(pair[0])\n",
    "\n",
    "        # If no direct parent is found, look for siblings as a way to find parents\n",
    "        if not direct_parent_found:\n",
    "            for pair in relation_based_dict.get('Brother', []) + relation_based_dict.get('Sister', []):\n",
    "                if child == pair[0]:  # If the person is listed as a sibling\n",
    "                    add_parents_of_sibling(pair[1])\n",
    "                elif child == pair[1]:  # Or the sibling relation is listed the other way\n",
    "                    add_parents_of_sibling(pair[0])\n",
    "\n",
    "    recurse_find(person)\n",
    "    return ancestors\n",
    "\n",
    "\n",
    "\n",
    "person = 'Esha'\n",
    "# Test the updated function with an example\n",
    "ancestors_of_person = find_ancestors_v2(person, relations_dict)\n",
    "print(f\"Ancestors of {person}: {ancestors_of_person}\")\n"
   ]
  },
  {
   "cell_type": "code",
   "execution_count": 28,
   "metadata": {},
   "outputs": [
    {
     "name": "stdout",
     "output_type": "stream",
     "text": [
      "The lowest common ancestor (LCA) of Alexis and Esha is: Alexis\n"
     ]
    }
   ],
   "source": [
    "def find_lca_v2(a, b, relation_based_dict):\n",
    "    # Use the updated version of find_ancestors function\n",
    "    ancestors_a = find_ancestors_v2(a, relation_based_dict)\n",
    "    ancestors_b = find_ancestors_v2(b, relation_based_dict)\n",
    "    \n",
    "    # Find the first common ancestor in the list of ancestors for 'a' that also appears in 'b's ancestors\n",
    "    # This relies on the ancestors being returned in order from closest to furthest\n",
    "    lca = next((ancestor for ancestor in ancestors_a if ancestor in ancestors_b), None)\n",
    "    return lca\n",
    "\n",
    "# Assuming `relation_based_dict` is already defined and populated as shown previously\n",
    "# Example use of the modified find_lca function\n",
    "\n",
    "person1 = 'Alexis'\n",
    "person2 = 'Esha'\n",
    "\n",
    "lca = find_lca_v2(person1, person2, relations_dict)\n",
    "print(f\"The lowest common ancestor (LCA) of {person1} and {person2} is: {lca}\")\n"
   ]
  },
  {
   "cell_type": "code",
   "execution_count": 48,
   "metadata": {},
   "outputs": [
    {
     "name": "stdout",
     "output_type": "stream",
     "text": [
      " Esha is Alexis's Child\n"
     ]
    }
   ],
   "source": [
    "# More detailed function \n",
    "def calculate_relationship(person_a, person_b, relation_based_dict):\n",
    "    # First, check if their relationship already exists in the dictionary\n",
    "    for relation, pairs in relation_based_dict.items():\n",
    "        if [person_a, person_b] in pairs:\n",
    "            return relation\n",
    "    # Find the LCA for both individuals\n",
    "    lca = find_lca_v2(person_a, person_b, relation_based_dict)\n",
    "    if not lca:\n",
    "        return \"No common ancestors found, so no direct familial relationship.\"\n",
    "    \n",
    "    # Find the distance from each person to the LCA\n",
    "    distance_a_to_lca = find_distance_to_lca(person_a, lca, relation_based_dict)\n",
    "    distance_b_to_lca = find_distance_to_lca(person_b, lca, relation_based_dict)\n",
    "    \n",
    "    # Calculate the specific relationship based on the distances\n",
    "    return calculate_detailed_relationship(distance_a_to_lca, distance_b_to_lca)\n",
    "\n",
    "def find_distance_to_lca(person, lca, relation_based_dict):\n",
    "    ancestors = find_ancestors_v2(person, relation_based_dict)\n",
    "    distance = 0\n",
    "    for ancestor in ancestors:\n",
    "        distance += 1\n",
    "        if ancestor == lca:\n",
    "            return distance\n",
    "    return -1  # Should not happen if LCA is correctly found\n",
    "\n",
    "def calculate_detailed_relationship(distance_a, distance_b):\n",
    "    # This function now needs to incorporate the detailed relationship logic\n",
    "    # Direct relationships\n",
    "\n",
    "    if distance_a == 1 and distance_b == 0:\n",
    "        return \"Parent\"\n",
    "    elif distance_a == 0 and distance_b == 1:\n",
    "        return \"Child\"\n",
    "    elif distance_a == 1 and distance_b == 1:\n",
    "        return \"Sibling\"\n",
    "    \n",
    "    # Checking for the generation gap and determining the relationship accordingly\n",
    "    generation_gap = abs(distance_a - distance_b)\n",
    "    if generation_gap == 0:\n",
    "        if distance_a == 2:\n",
    "            return \"Cousin\"\n",
    "    elif generation_gap == 1:\n",
    "        if distance_b > distance_a:\n",
    "            # Person A is the older generation\n",
    "            if distance_b == 1:\n",
    "                return \"Parent\"\n",
    "            elif distance_b == 2:\n",
    "                return \"Uncle/Aunt\"\n",
    "        else:\n",
    "            # Person B is the older generation\n",
    "            if distance_a == 2:\n",
    "                return \"Child\"\n",
    "            elif distance_a == 3:\n",
    "                return \"Niece/Nephew\"\n",
    "    elif generation_gap > 1:\n",
    "        # More distant ancestor-descendant relationship\n",
    "        if distance_b > distance_a:\n",
    "            return \"Grandfather\"\n",
    "        else:\n",
    "            return \"Grandchild\"\n",
    "\n",
    "    return \"Distant Relative or Complex Relationship\"\n",
    "\n",
    "def ordinal(n):\n",
    "    \"\"\"Convert an integer into its ordinal representation.\"\"\"\n",
    "    if 10 <= n % 100 <= 20:\n",
    "        suffix = 'th'\n",
    "    else:\n",
    "        suffix = {1: 'st', 2: 'nd', 3: 'rd'}.get(n % 10, 'th')\n",
    "    return str(n) + suffix\n",
    "\n",
    "\n",
    "person1 = 'Esha'\n",
    "person2 = 'Alexis'\n",
    "# Test the function with an example\n",
    "relationship = calculate_relationship(person1, person2, relations_dict)\n",
    "print(f\" {person1} is {person2}'s {relationship}\")\n"
   ]
  },
  {
   "cell_type": "code",
   "execution_count": 51,
   "metadata": {},
   "outputs": [
    {
     "name": "stdout",
     "output_type": "stream",
     "text": [
      "Michael is Esha's Brother\n"
     ]
    }
   ],
   "source": [
    "query = input(\"\")\n",
    "query = query.split()\n",
    "person1 = query[2]\n",
    "person2 = query[-1]\n",
    "\n",
    "relationship = calculate_relationship(person1,person2,relations_dict)\n",
    "\n",
    "print(f\"{person1} is {person2}'s {relationship}\")"
   ]
  }
 ],
 "metadata": {
  "kernelspec": {
   "display_name": "Python 3",
   "language": "python",
   "name": "python3"
  },
  "language_info": {
   "codemirror_mode": {
    "name": "ipython",
    "version": 3
   },
   "file_extension": ".py",
   "mimetype": "text/x-python",
   "name": "python",
   "nbconvert_exporter": "python",
   "pygments_lexer": "ipython3",
   "version": "3.11.7"
  }
 },
 "nbformat": 4,
 "nbformat_minor": 2
}
