{
 "cells": [
  {
   "cell_type": "code",
   "execution_count": 1,
   "metadata": {},
   "outputs": [],
   "source": [
    "primitive_relations =['male','female','Spouse','parent']\n",
    "relation = ['Sibling','Dad','Mom','Cousin','Spouse','Uncle','Aunt','Grandparent','Grandchild']"
   ]
  },
  {
   "cell_type": "code",
   "execution_count": 2,
   "metadata": {},
   "outputs": [
    {
     "name": "stdout",
     "output_type": "stream",
     "text": [
      "male: [['lockie'], ['jhonty'], ['david'], ['roy'], ['kevin']]\n",
      "female: [['mary'], ['milli'], ['ria'], ['sushi'], ['lucy'], ['dolly'], ['dia'], ['katie']]\n",
      "spouse: [['lockie', ' mary'], ['mary', ' lockie'], ['milli', 'jhonty'], ['jhonty', 'milli'], ['ria', 'david'], ['david', 'ria'], ['lucy', 'roy'], ['roy', 'lucy'], ['katie', 'kevin'], ['kevin', 'katie']]\n",
      "parent: [['lockie', ' jhonty'], ['mary', ' jhonty'], ['lockie', ' david'], ['mary', ' david'], ['lockie', ' sushi'], ['mary', ' sushi'], ['milli', ' roy'], ['jhonty', ' roy'], ['jhonty', ' dolly'], ['milli', ' dolly'], ['ria', ' dia'], ['david', ' dia'], ['roy', ' katie'], ['lucy', ' katie'], ['roy', ' kevin'], ['lucy', ' kevin']]\n"
     ]
    }
   ],
   "source": [
    "import re\n",
    "def create_family_tree(textfile):   \n",
    "    tree ={} \n",
    "    with open(textfile, 'r') as file:\n",
    "        for line in file:\n",
    "            if line.strip():  \n",
    "                line = re.split(r'[()]', line)\n",
    "                person = line[1].split(\",\")\n",
    "                if line[0] not in tree:\n",
    "                    tree[line[0]] = []\n",
    "                    tree[line[0]].append(person) \n",
    "                else :\n",
    "                    tree[line[0]].append(person) \n",
    "    return tree\n",
    "\n",
    "\n",
    "\n",
    "tree = create_family_tree(\"family_graph.txt\")\n",
    "for relation, pairs in tree.items():\n",
    "    print(f\"{relation}: {pairs}\")"
   ]
  },
  {
   "cell_type": "code",
   "execution_count": 3,
   "metadata": {},
   "outputs": [],
   "source": [
    "def father(person1,person2,tree):\n",
    "    for parent,child in tree['parent']:\n",
    "        if (parent == person1 and child == person2):\n",
    "            if parent in tree['male'][0]:\n",
    "                return True\n",
    "            else:\n",
    "                return False\n",
    "    return False\n",
    "\n",
    "def mother(person1,person2,tree):\n",
    "    for parent,child in tree['parent']:\n",
    "        if (parent == person1 and child == person2):\n",
    "            if parent in tree['female'][0]:\n",
    "                return True\n",
    "            else:\n",
    "                return False\n",
    "    return False\n",
    "\n",
    "\n",
    "\n"
   ]
  },
  {
   "cell_type": "code",
   "execution_count": 4,
   "metadata": {},
   "outputs": [],
   "source": [
    "def grandfather(person1, person2, tree):\n",
    "    for parent, child in tree['parent']:\n",
    "        if child == person2:\n",
    "            if father(person1, parent, tree):\n",
    "                return True\n",
    "    return False\n",
    "\n",
    "def grandmother(gm, gc, tree):\n",
    "    for parent, child in tree['parent']:\n",
    "        if child == gc:\n",
    "            if mother(gm, parent, tree):\n",
    "                return True\n",
    "    return False"
   ]
  },
  {
   "cell_type": "code",
   "execution_count": 5,
   "metadata": {},
   "outputs": [],
   "source": [
    "def sibling(person1, person2, tree):\n",
    "    for parent, child in tree['parent']:\n",
    "        if child == person1 and parent != person2:\n",
    "            if (parent, person2) in tree['parent']:\n",
    "                return True\n",
    "    return False\n",
    "\n",
    "def brother(person, sibling, tree):\n",
    "    return sibling(person, sibling, tree) and person in tree['male']\n",
    "\n",
    "def sister(person, sibling, tree):\n",
    "    return sibling(person, sibling, tree) and person in tree['female']\n"
   ]
  },
  {
   "cell_type": "code",
   "execution_count": 6,
   "metadata": {},
   "outputs": [],
   "source": [
    "def uncle(uncle, child, tree):\n",
    "    for parent, c in tree['parent']:\n",
    "        if child == c:\n",
    "            for parent2, sibling in tree['parent']:\n",
    "                if parent == sibling:\n",
    "                    return brother(uncle, parent2, tree)\n",
    "    return False\n",
    "\n",
    "def aunt(aunt, child, tree):\n",
    "    for parent, c in tree['parent']:\n",
    "        if child == c:\n",
    "            for parent2, sibling in tree['parent']:\n",
    "                if parent == sibling:\n",
    "                    return sister(aunt, parent2, tree)\n",
    "    return False\n"
   ]
  },
  {
   "cell_type": "code",
   "execution_count": 7,
   "metadata": {},
   "outputs": [],
   "source": [
    "\n",
    "def male(person, tree):\n",
    "    return person in tree['male']\n",
    "\n",
    "def female(person, tree):\n",
    "    return person in tree['female']\n",
    "def nephew(nephew, person, tree):\n",
    "    return male(nephew, tree) and sibling(nephew, person, tree)\n",
    "\n",
    "def niece(niece, person, tree):\n",
    "    return female(niece, tree) and sibling(niece, person, tree)"
   ]
  },
  {
   "cell_type": "code",
   "execution_count": 8,
   "metadata": {},
   "outputs": [
    {
     "name": "stdout",
     "output_type": "stream",
     "text": [
      "False\n",
      "False\n",
      "False\n",
      "False\n",
      "False\n"
     ]
    },
    {
     "ename": "TypeError",
     "evalue": "'str' object is not callable",
     "output_type": "error",
     "traceback": [
      "\u001b[0;31m---------------------------------------------------------------------------\u001b[0m",
      "\u001b[0;31mTypeError\u001b[0m                                 Traceback (most recent call last)",
      "Cell \u001b[0;32mIn[8], line 6\u001b[0m\n\u001b[1;32m      4\u001b[0m \u001b[38;5;28mprint\u001b[39m(grandmother(\u001b[38;5;124m'\u001b[39m\u001b[38;5;124mria\u001b[39m\u001b[38;5;124m'\u001b[39m, \u001b[38;5;124m'\u001b[39m\u001b[38;5;124mdia\u001b[39m\u001b[38;5;124m'\u001b[39m, tree))  \n\u001b[1;32m      5\u001b[0m \u001b[38;5;28mprint\u001b[39m(sibling(\u001b[38;5;124m'\u001b[39m\u001b[38;5;124mjhonty\u001b[39m\u001b[38;5;124m'\u001b[39m, \u001b[38;5;124m'\u001b[39m\u001b[38;5;124mdolly\u001b[39m\u001b[38;5;124m'\u001b[39m, tree))  \n\u001b[0;32m----> 6\u001b[0m \u001b[38;5;28mprint\u001b[39m(\u001b[43mbrother\u001b[49m\u001b[43m(\u001b[49m\u001b[38;5;124;43m'\u001b[39;49m\u001b[38;5;124;43mjhonty\u001b[39;49m\u001b[38;5;124;43m'\u001b[39;49m\u001b[43m,\u001b[49m\u001b[43m \u001b[49m\u001b[38;5;124;43m'\u001b[39;49m\u001b[38;5;124;43mdolly\u001b[39;49m\u001b[38;5;124;43m'\u001b[39;49m\u001b[43m,\u001b[49m\u001b[43m \u001b[49m\u001b[43mtree\u001b[49m\u001b[43m)\u001b[49m)  \n\u001b[1;32m      7\u001b[0m \u001b[38;5;28mprint\u001b[39m(sister(\u001b[38;5;124m'\u001b[39m\u001b[38;5;124mdolly\u001b[39m\u001b[38;5;124m'\u001b[39m, \u001b[38;5;124m'\u001b[39m\u001b[38;5;124mjhonty\u001b[39m\u001b[38;5;124m'\u001b[39m, tree))  \n\u001b[1;32m      8\u001b[0m \u001b[38;5;28mprint\u001b[39m(uncle(\u001b[38;5;124m'\u001b[39m\u001b[38;5;124mroy\u001b[39m\u001b[38;5;124m'\u001b[39m, \u001b[38;5;124m'\u001b[39m\u001b[38;5;124mkatie\u001b[39m\u001b[38;5;124m'\u001b[39m, tree)) \n",
      "Cell \u001b[0;32mIn[5], line 9\u001b[0m, in \u001b[0;36mbrother\u001b[0;34m(person, sibling, tree)\u001b[0m\n\u001b[1;32m      8\u001b[0m \u001b[38;5;28;01mdef\u001b[39;00m \u001b[38;5;21mbrother\u001b[39m(person, sibling, tree):\n\u001b[0;32m----> 9\u001b[0m     \u001b[38;5;28;01mreturn\u001b[39;00m \u001b[43msibling\u001b[49m\u001b[43m(\u001b[49m\u001b[43mperson\u001b[49m\u001b[43m,\u001b[49m\u001b[43m \u001b[49m\u001b[43msibling\u001b[49m\u001b[43m,\u001b[49m\u001b[43m \u001b[49m\u001b[43mtree\u001b[49m\u001b[43m)\u001b[49m \u001b[38;5;129;01mand\u001b[39;00m person \u001b[38;5;129;01min\u001b[39;00m tree[\u001b[38;5;124m'\u001b[39m\u001b[38;5;124mmale\u001b[39m\u001b[38;5;124m'\u001b[39m]\n",
      "\u001b[0;31mTypeError\u001b[0m: 'str' object is not callable"
     ]
    }
   ],
   "source": [
    "print(mother('lockie', 'david', tree))  \n",
    "print(father('lockie', 'david', tree))  \n",
    "print(grandfather('lockie', 'katie', tree))  \n",
    "print(grandmother('ria', 'dia', tree))  \n",
    "print(sibling('jhonty', 'dolly', tree))  \n",
    "print(brother('jhonty', 'dolly', tree))  \n",
    "print(sister('dolly', 'jhonty', tree))  \n",
    "print(uncle('roy', 'katie', tree)) \n",
    "print(aunt('lucy', 'katie', tree))  \n",
    "print(nephew('dolly', 'roy', tree))  \n",
    "print(niece('jhonty', 'roy', tree)) "
   ]
  },
  {
   "cell_type": "code",
   "execution_count": null,
   "metadata": {},
   "outputs": [],
   "source": []
  }
 ],
 "metadata": {
  "kernelspec": {
   "display_name": "Python 3",
   "language": "python",
   "name": "python3"
  },
  "language_info": {
   "codemirror_mode": {
    "name": "ipython",
    "version": 3
   },
   "file_extension": ".py",
   "mimetype": "text/x-python",
   "name": "python",
   "nbconvert_exporter": "python",
   "pygments_lexer": "ipython3",
   "version": "3.11.2"
  }
 },
 "nbformat": 4,
 "nbformat_minor": 2
}
