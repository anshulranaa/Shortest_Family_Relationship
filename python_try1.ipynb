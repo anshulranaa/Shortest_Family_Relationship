{
 "cells": [
  {
   "cell_type": "code",
   "execution_count": 1,
   "metadata": {},
   "outputs": [
    {
     "name": "stdout",
     "output_type": "stream",
     "text": [
      "{'male': ['lockie', 'jhonty', 'david', 'roy', 'kevin'], 'female': ['mary', 'milli', 'ria', 'sushi', 'lucy', 'dolly', 'dia', 'katie'], 'spouse': [('lockie', ' mary'), ('mary', ' lockie'), ('milli', 'jhonty'), ('jhonty', 'milli'), ('ria', 'david'), ('david', 'ria'), ('lucy', 'roy'), ('roy', 'lucy'), ('katie', 'kevin'), ('kevin', 'katie')], 'parent': [('lockie', ' jhonty'), ('mary', ' jhonty'), ('lockie', ' david'), ('mary', ' david'), ('lockie', ' sushi'), ('mary', ' sushi'), ('milli', ' roy'), ('jhonty', ' roy'), ('jhonty', ' dolly'), ('milli', ' dolly'), ('ria', ' dia'), ('david', ' dia'), ('roy', ' katie'), ('lucy', ' katie'), ('roy', ' kevin'), ('lucy', ' kevin')]}\n"
     ]
    }
   ],
   "source": [
    "def parse_relationships(file_path):\n",
    "    family_dict = {'male': [], 'female': [], 'spouse': [], 'parent': []}\n",
    "\n",
    "    with open(file_path, 'r') as file:\n",
    "        for line in file:\n",
    "            line = line.strip()\n",
    "            if not line:\n",
    "                continue\n",
    "            if line.startswith('male') or line.startswith('female'):\n",
    "                gender, name = line.split('(')\n",
    "                name = name.rstrip(')')\n",
    "                family_dict[gender].append(name)\n",
    "            elif line.startswith('spouse'):\n",
    "                _, pair = line.split('spouse(')\n",
    "                pair = pair.rstrip(')')\n",
    "                spouses = tuple(pair.split(','))\n",
    "                family_dict['spouse'].append(spouses)\n",
    "            elif line.startswith('parent'):\n",
    "                _, pair = line.split('parent(')\n",
    "                pair = pair.rstrip(')')\n",
    "                parent_child = tuple(pair.split(','))\n",
    "                family_dict['parent'].append(parent_child)\n",
    "\n",
    "    return family_dict\n",
    "\n",
    "# Assuming the file 'family_graph.txt' is located at the path \"/mnt/data/family_graph.txt\"\n",
    "file_path = \"family_graph.txt\"\n",
    "family_relationships = parse_relationships(file_path)\n",
    "print(family_relationships)\n"
   ]
  },
  {
   "cell_type": "code",
   "execution_count": null,
   "metadata": {},
   "outputs": [],
   "source": []
  },
  {
   "cell_type": "code",
   "execution_count": 7,
   "metadata": {},
   "outputs": [
    {
     "name": "stdout",
     "output_type": "stream",
     "text": [
      "{'father(X,Y)': [('parent', ('X', 'Y')), ('male', ('X',))], 'mother(X,Y)': [('parent', ('X', 'Y')), ('female', ('X',))], 'grandfather(GF, GC)': [('parent', ('P', 'GC')), ('father', ('GF', 'P'))], 'grandmother(GF, GC)': [('parent', ('P', 'GC')), ('mother', ('GF', 'P'))]}\n"
     ]
    }
   ],
   "source": [
    "def parse_rule(rule):\n",
    "    # Split the rule into the conclusion and the conditions\n",
    "    conclusion, conditions = rule.split(\"=>\")\n",
    "    conclusion = conclusion.strip()\n",
    "    conditions = conditions.strip().split(\" ^ \")\n",
    "\n",
    "    # Parse the conditions into a list of tuples (relation, arguments)\n",
    "    parsed_conditions = []\n",
    "    for condition in conditions:\n",
    "        relation, args = condition.split(\"(\")\n",
    "        args = args.rstrip(\")\").split(\",\")\n",
    "        parsed_conditions.append((relation.strip(), tuple(arg.strip() for arg in args)))\n",
    "\n",
    "    return conclusion.strip(), parsed_conditions\n",
    "\n",
    "def load_rules(file_path):\n",
    "    rules = {}\n",
    "    with open(file_path, 'r') as file:\n",
    "        for line in file:\n",
    "            line = line.strip()\n",
    "            if not line:\n",
    "                continue\n",
    "            # Parse the rule\n",
    "            conclusion, conditions = parse_rule(line)\n",
    "            rules[conclusion] = conditions\n",
    "    return rules\n",
    "\n",
    "# Example usage\n",
    "file_path = \"rules.txt\"  # Adjust the path to where your rules file is stored\n",
    "rules = load_rules(file_path)\n",
    "print(rules)\n"
   ]
  },
  {
   "cell_type": "code",
   "execution_count": 8,
   "metadata": {},
   "outputs": [
    {
     "name": "stdout",
     "output_type": "stream",
     "text": [
      "Is Lucy the mother of Kevin? No\n"
     ]
    }
   ],
   "source": [
    "def is_mother(mother, child, family_dict):\n",
    "    # Check if the mother is female and a parent of the child\n",
    "    if mother in family_dict['female'] and (mother, child) in family_dict['parent']:\n",
    "        return True\n",
    "    return False\n",
    "\n",
    "result = is_mother('Lucy', 'Kevin', family_relationships)\n",
    "print(f\"Is Lucy the mother of Kevin? {'Yes' if result else 'No'}\")"
   ]
  },
  {
   "cell_type": "code",
   "execution_count": null,
   "metadata": {},
   "outputs": [],
   "source": []
  }
 ],
 "metadata": {
  "kernelspec": {
   "display_name": "Python 3",
   "language": "python",
   "name": "python3"
  },
  "language_info": {
   "codemirror_mode": {
    "name": "ipython",
    "version": 3
   },
   "file_extension": ".py",
   "mimetype": "text/x-python",
   "name": "python",
   "nbconvert_exporter": "python",
   "pygments_lexer": "ipython3",
   "version": "3.11.2"
  }
 },
 "nbformat": 4,
 "nbformat_minor": 2
}
